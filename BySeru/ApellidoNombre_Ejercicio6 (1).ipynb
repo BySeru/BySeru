{
 "cells": [
  {
   "cell_type": "markdown",
   "id": "Ca47pvrzRXMy",
   "metadata": {
    "id": "Ca47pvrzRXMy"
   },
   "source": [
    "## Librerias"
   ]
  },
  {
   "cell_type": "code",
   "execution_count": 1,
   "id": "6f64d18c-e6fe-4328-a15d-9344842eabd1",
   "metadata": {
    "id": "6f64d18c-e6fe-4328-a15d-9344842eabd1"
   },
   "outputs": [],
   "source": [
    "import numpy as np\n",
    "import matplotlib.pyplot as plt"
   ]
  },
  {
   "cell_type": "markdown",
   "id": "7Gv1no-mRcMn",
   "metadata": {
    "id": "7Gv1no-mRcMn"
   },
   "source": [
    "## Problema 1\n",
    "\n",
    "Considere la integral, \n",
    "\n",
    "$$ I = \\int_0^1\\sin^2(\\sqrt{100x})\\,dx$$\n",
    "\n",
    "a) Cree la función `gauss_integrate(n)`, que reciba el grado `n` del polinomio de Gauss-Legendre y retorne la integral de la función pedida con el método de gauss-legendre. Puede usar la función `np.polynomial.legendre.leggauss` , para obtener los pesos y puntos de Legendre."
   ]
  },
  {
   "cell_type": "code",
   "execution_count": 2,
   "id": "8f0a672c-905a-4839-b459-a34af4740151",
   "metadata": {},
   "outputs": [],
   "source": [
    "xi = np.linspace(-1,1,100)\n",
    "def f(x):\n",
    "    return np.sin(np.sqrt(100))**2\n",
    "a = 0\n",
    "b = 1"
   ]
  },
  {
   "cell_type": "code",
   "execution_count": 3,
   "id": "Tx8fBk37gXrD",
   "metadata": {
    "id": "Tx8fBk37gXrD"
   },
   "outputs": [],
   "source": [
    "def gauss_integrate(n):\n",
    "  roots,weights=np.polynomial.legendre.leggauss(n)\n",
    "  x = 0.5*((b-a)*roots + a + b)\n",
    "  int = 0.5*(b-a)*np.sum(weights*f(x))\n",
    "\n",
    "  return int"
   ]
  },
  {
   "cell_type": "code",
   "execution_count": 4,
   "id": "ni3JHLRDoqBv",
   "metadata": {
    "id": "ni3JHLRDoqBv"
   },
   "outputs": [
    {
     "name": "stdout",
     "output_type": "stream",
     "text": [
      "0.295958969093304\n",
      "0.295958969093304\n",
      "0.29595896909330405\n",
      "0.29595896909330394\n",
      "0.295958969093304\n",
      "0.2959589690933039\n"
     ]
    }
   ],
   "source": [
    "print(gauss_integrate(1))\n",
    "print(gauss_integrate(2))\n",
    "print(gauss_integrate(3))\n",
    "print(gauss_integrate(4))\n",
    "print(gauss_integrate(20))\n",
    "print(gauss_integrate(100))"
   ]
  },
  {
   "cell_type": "markdown",
   "id": "7vK6RFJ1W_p2",
   "metadata": {
    "id": "7vK6RFJ1W_p2"
   },
   "source": [
    "b) Verifique sus resultados obtenidos usando la libreria `scipy.integrate`. Imprima los resultados obtenidos con la libreria."
   ]
  },
  {
   "cell_type": "code",
   "execution_count": 5,
   "id": "sQJZ_280pLqK",
   "metadata": {
    "id": "sQJZ_280pLqK"
   },
   "outputs": [
    {
     "name": "stdout",
     "output_type": "stream",
     "text": [
      "(0.295958969093304, None)\n",
      "(0.295958969093304, None)\n",
      "(0.29595896909330394, None)\n",
      "(0.295958969093304, None)\n",
      "(0.29595896909330405, None)\n",
      "(0.295958969093304, None)\n"
     ]
    }
   ],
   "source": [
    "from scipy import integrate\n",
    "\n",
    "print(integrate.fixed_quad(f, a, b, n = 1))\n",
    "print(integrate.fixed_quad(f, a, b, n = 2))\n",
    "print(integrate.fixed_quad(f, a, b, n = 3))\n",
    "print(integrate.fixed_quad(f, a, b, n = 4))\n",
    "print(integrate.fixed_quad(f, a, b, n = 20))\n",
    "print(integrate.fixed_quad(f, a, b, n = 100))\n"
   ]
  },
  {
   "cell_type": "markdown",
   "id": "-tn9unovTwJ4",
   "metadata": {
    "id": "-tn9unovTwJ4"
   },
   "source": [
    "## Problema 2\n",
    "\n",
    "A partir del método de Montecarlo, calcule el volumen de un cono cuya base tiene radio $1$, y cuya altura es $3$, con 100000 (cien mil puntos de Montecarlo). Guarde el volumen en la variable `volume_cone`, al final incluya el siguiente `print `para la evaluación de su ejercicio. \n",
    "\n",
    "\n",
    "\n",
    "```\n",
    "print(f\"Volume of a cone = {volume_cone}\")\n",
    "```"
   ]
  },
  {
   "cell_type": "markdown",
   "id": "4vh-B44hYQZX",
   "metadata": {
    "id": "4vh-B44hYQZX"
   },
   "source": [
    "  a) Empiece creando 3 listas de 100000 numeros aleatorios con probabilidad uniforme $x$ , $y$ y $z$. ¿Cuales son los límites $x$, $y$ y $z$ del paralepipedo resultante?"
   ]
  },
  {
   "cell_type": "code",
   "execution_count": 34,
   "id": "AoJU2ACpX9Ds",
   "metadata": {
    "id": "AoJU2ACpX9Ds"
   },
   "outputs": [],
   "source": [
    "## su codigo aqui\n",
    "volume_cone = ((np.pi*3)/3)\n",
    "x = np.random.rand(100000)*2-1\n",
    "y = np.random.rand(100000)*2-1\n",
    "z = np.random.rand(100000)*3"
   ]
  },
  {
   "cell_type": "markdown",
   "id": "7c409461-af1c-458c-8089-64c6f4de1fe1",
   "metadata": {
    "id": "V26zVI-YZA88"
   },
   "source": [
    "b) Escriba la función f(x, y) que define el limite del cono, es decir los puntos que están debajo de esa función hacen parte del cono. "
   ]
  },
  {
   "cell_type": "code",
   "execution_count": 35,
   "id": "dgkKsu2YZBMN",
   "metadata": {
    "id": "dgkKsu2YZBMN"
   },
   "outputs": [],
   "source": [
    "def f(x,y):\n",
    "  z = np.sqrt(9*((x**2)+(y**2)))\n",
    "  return z"
   ]
  },
  {
   "cell_type": "markdown",
   "id": "zWzE6ZguZ3z3",
   "metadata": {
    "id": "zWzE6ZguZ3z3"
   },
   "source": [
    "c) A partir del metodo de Monte Carlo, halle el volumen del cono."
   ]
  },
  {
   "cell_type": "code",
   "execution_count": 38,
   "id": "kTN_ZGDMZU_r",
   "metadata": {
    "id": "kTN_ZGDMZU_r"
   },
   "outputs": [
    {
     "data": {
      "text/plain": [
       "[]"
      ]
     },
     "execution_count": 38,
     "metadata": {},
     "output_type": "execute_result"
    },
    {
     "data": {
      "image/png": "[encoded data removed]",
      "text/plain": [
       "<Figure size 432x288 with 1 Axes>"
      ]
     },
     "metadata": {
      "needs_background": "light"
     },
     "output_type": "display_data"
    }
   ],
   "source": [
    "volume_cone = 0\n",
    "## su codigo aqui\n",
    "index = np.where(f(x,y) > z)\n",
    "#index = np.where(f(x,y) < 3)\n",
    "plt.scatter(x[index], z[index], alpha=0.5)\n",
    "plt.plot()\n",
    "\n",
    "#print(f\"Volume of a cone = {volume_cone}\")"
   ]
  },
  {
   "cell_type": "code",
   "execution_count": 39,
   "id": "9a3389ed-e68e-4b91-8961-a3a3e22eeb6c",
   "metadata": {},
   "outputs": [
    {
     "data": {
      "text/plain": [
       "73619"
      ]
     },
     "execution_count": 39,
     "metadata": {},
     "output_type": "execute_result"
    }
   ],
   "source": [
    "len(index[0])"
   ]
  },
  {
   "cell_type": "code",
   "execution_count": 25,
   "id": "9cb0411c-3ff4-4cb0-8d84-e965c46b7b3f",
   "metadata": {},
   "outputs": [],
   "source": [
    "min_x = -5.0\n",
    "max_x = 5.0\n",
    "\n",
    "min_y = 0.0\n",
    "max_y = np.amax(f)"
   ]
  },
  {
   "cell_type": "code",
   "execution_count": 26,
   "id": "cda86868-54a8-4a09-b475-65467ee64e85",
   "metadata": {},
   "outputs": [
    {
     "ename": "TypeError",
     "evalue": "unsupported operand type(s) for -: 'function' and 'float'",
     "output_type": "error",
     "traceback": [
      "\u001b[0;31m---------------------------------------------------------------------------\u001b[0m",
      "\u001b[0;31mTypeError\u001b[0m                                 Traceback (most recent call last)",
      "\u001b[0;32m/tmp/ipykernel_155/830398113.py\u001b[0m in \u001b[0;36m<module>\u001b[0;34m\u001b[0m\n\u001b[0;32m----> 1\u001b[0;31m \u001b[0minterval_integral\u001b[0m \u001b[0;34m=\u001b[0m \u001b[0;34m(\u001b[0m\u001b[0mmax_y\u001b[0m\u001b[0;34m-\u001b[0m\u001b[0mmin_y\u001b[0m\u001b[0;34m)\u001b[0m \u001b[0;34m*\u001b[0m \u001b[0;34m(\u001b[0m\u001b[0mmax_x\u001b[0m \u001b[0;34m-\u001b[0m \u001b[0mmin_x\u001b[0m\u001b[0;34m)\u001b[0m\u001b[0;34m\u001b[0m\u001b[0;34m\u001b[0m\u001b[0m\n\u001b[0m\u001b[1;32m      2\u001b[0m \u001b[0mintegral\u001b[0m  \u001b[0;34m=\u001b[0m \u001b[0minterval_integral\u001b[0m \u001b[0;34m*\u001b[0m \u001b[0;34m(\u001b[0m\u001b[0mnp\u001b[0m\u001b[0;34m.\u001b[0m\u001b[0msize\u001b[0m\u001b[0;34m(\u001b[0m\u001b[0mindex\u001b[0m\u001b[0;34m)\u001b[0m\u001b[0;34m/\u001b[0m\u001b[0;34m(\u001b[0m\u001b[0;36m1.0\u001b[0m\u001b[0;34m*\u001b[0m\u001b[0mnp\u001b[0m\u001b[0;34m.\u001b[0m\u001b[0msize\u001b[0m\u001b[0;34m(\u001b[0m\u001b[0my\u001b[0m\u001b[0;34m)\u001b[0m\u001b[0;34m)\u001b[0m\u001b[0;34m)\u001b[0m\u001b[0;34m\u001b[0m\u001b[0;34m\u001b[0m\u001b[0m\n",
      "\u001b[0;31mTypeError\u001b[0m: unsupported operand type(s) for -: 'function' and 'float'"
     ]
    }
   ],
   "source": [
    "interval_integral = (max_y-min_y) * (max_x - min_x)\n",
    "integral  = interval_integral * (np.size(index)/(1.0*np.size(y)))"
   ]
  },
  {
   "cell_type": "code",
   "execution_count": null,
   "id": "d4e83d5a-4e0a-46b6-bff6-c83f01e41bf6",
   "metadata": {},
   "outputs": [],
   "source": []
  }
 ],
 "metadata": {
  "colab": {
   "collapsed_sections": [],
   "provenance": []
  },
  "kernelspec": {
   "display_name": "Python 3 (ipykernel)",
   "language": "python",
   "name": "python3"
  },
  "language_info": {
   "codemirror_mode": {
    "name": "ipython",
    "version": 3
   },
   "file_extension": ".py",
   "mimetype": "text/x-python",
   "name": "python",
   "nbconvert_exporter": "python",
   "pygments_lexer": "ipython3",
   "version": "3.7.12"
  }
 },
 "nbformat": 4,
 "nbformat_minor": 5
}
