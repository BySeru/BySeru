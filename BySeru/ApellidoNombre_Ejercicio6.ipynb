{
  "cells": [
    {
      "cell_type": "markdown",
      "source": [
        "## Librerias"
      ],
      "metadata": {
        "id": "Ca47pvrzRXMy"
      },
      "id": "Ca47pvrzRXMy"
    },
    {
      "cell_type": "code",
      "execution_count": null,
      "id": "6f64d18c-e6fe-4328-a15d-9344842eabd1",
      "metadata": {
        "id": "6f64d18c-e6fe-4328-a15d-9344842eabd1"
      },
      "outputs": [],
      "source": [
        "import numpy as np\n",
        "import matplotlib.pyplot as plt"
      ]
    },
    {
      "cell_type": "markdown",
      "source": [
        "## Problema 1\n",
        "\n",
        "Considere la integral, \n",
        "\n",
        "$$ I = \\int_0^1\\sin^2(\\sqrt{100x})\\,dx$$\n",
        "\n",
        "a) Cree la función `gauss_integrate(n)`, que reciba el grado `n` del polinomio de Gauss-Legendre y retorne la integral de la función pedida con el método de gauss-legendre. Puede usar la función `np.polynomial.legendre.leggauss` , para obtener los pesos y puntos de Legendre."
      ],
      "metadata": {
        "id": "7Gv1no-mRcMn"
      },
      "id": "7Gv1no-mRcMn"
    },
    {
      "cell_type": "code",
      "source": [
        "def gauss_integrate(n):\n",
        "  integral = 0\n",
        "  ## tu codigo aqui\n",
        "  \n",
        "  return integral"
      ],
      "metadata": {
        "id": "Tx8fBk37gXrD"
      },
      "execution_count": 1,
      "outputs": [],
      "id": "Tx8fBk37gXrD"
    },
    {
      "cell_type": "code",
      "source": [
        "print(gauss_integrate(1))\n",
        "print(gauss_integrate(2))\n",
        "print(gauss_integrate(3))\n",
        "print(gauss_integrate(4))\n",
        "print(gauss_integrate(20))\n",
        "print(gauss_integrate(100))"
      ],
      "metadata": {
        "id": "ni3JHLRDoqBv"
      },
      "execution_count": null,
      "outputs": [],
      "id": "ni3JHLRDoqBv"
    },
    {
      "cell_type": "markdown",
      "source": [
        "b) Verifique sus resultados obtenidos usando la libreria `scipy.integrate`. Imprima los resultados obtenidos con la libreria."
      ],
      "metadata": {
        "id": "7vK6RFJ1W_p2"
      },
      "id": "7vK6RFJ1W_p2"
    },
    {
      "cell_type": "code",
      "source": [
        "from scipy import integrate\n",
        "\n",
        "## tu codigo aqui\n"
      ],
      "metadata": {
        "id": "sQJZ_280pLqK"
      },
      "execution_count": null,
      "outputs": [],
      "id": "sQJZ_280pLqK"
    },
    {
      "cell_type": "markdown",
      "source": [
        "## Problema 2\n",
        "\n",
        "A partir del método de Montecarlo, calcule el volumen de un cono cuya base tiene radio $1$, y cuya altura es $3$, con 100000 (cien mil puntos de Montecarlo). Guarde el volumen en la variable `volume_cone`, al final incluya el siguiente `print `para la evaluación de su ejercicio. \n",
        "\n",
        "\n",
        "\n",
        "```\n",
        "print(f\"Volume of a cone = {volume_cone}\")\n",
        "```"
      ],
      "metadata": {
        "id": "-tn9unovTwJ4"
      },
      "id": "-tn9unovTwJ4"
    },
    {
      "cell_type": "markdown",
      "source": [
        "  a) Empiece creando 3 listas de 100000 numeros aleatorios con probabilidad uniforme $x$ , $y$ y $z$. ¿Cuales son los límites $x$, $y$ y $z$ del paralepipedo resultante?"
      ],
      "metadata": {
        "id": "4vh-B44hYQZX"
      },
      "id": "4vh-B44hYQZX"
    },
    {
      "cell_type": "code",
      "source": [
        "## su codigo aqui\n"
      ],
      "metadata": {
        "id": "AoJU2ACpX9Ds"
      },
      "id": "AoJU2ACpX9Ds",
      "execution_count": null,
      "outputs": []
    },
    {
      "cell_type": "markdown",
      "source": [
        "b) Escriba la función f(x, y) que define el limite del cono, es decir los puntos que están debajo de esa función hacen parte del cono. "
      ],
      "metadata": {
        "id": "V26zVI-YZA88"
      },
      "id": "V26zVI-YZA88"
    },
    {
      "cell_type": "code",
      "source": [
        "def f(x, y):\n",
        "  res = 0\n",
        "  ## su codigo aqui\n",
        "  \n",
        "  return res"
      ],
      "metadata": {
        "id": "dgkKsu2YZBMN"
      },
      "id": "dgkKsu2YZBMN",
      "execution_count": null,
      "outputs": []
    },
    {
      "cell_type": "markdown",
      "source": [
        "c) A partir del metodo de Monte Carlo, halle el volumen del cono."
      ],
      "metadata": {
        "id": "zWzE6ZguZ3z3"
      },
      "id": "zWzE6ZguZ3z3"
    },
    {
      "cell_type": "code",
      "source": [
        "volume_cone = 0\n",
        "## su codigo aqui\n",
        "\n",
        "\n",
        "print(f\"Volume of a cone = {volume_cone}\")"
      ],
      "metadata": {
        "id": "kTN_ZGDMZU_r"
      },
      "id": "kTN_ZGDMZU_r",
      "execution_count": null,
      "outputs": []
    }
  ],
  "metadata": {
    "kernelspec": {
      "display_name": "Python 3 (ipykernel)",
      "language": "python",
      "name": "python3"
    },
    "language_info": {
      "codemirror_mode": {
        "name": "ipython",
        "version": 3
      },
      "file_extension": ".py",
      "mimetype": "text/x-python",
      "name": "python",
      "nbconvert_exporter": "python",
      "pygments_lexer": "ipython3",
      "version": "3.7.12"
    },
    "colab": {
      "provenance": [],
      "collapsed_sections": []
    }
  },
  "nbformat": 4,
  "nbformat_minor": 5
}